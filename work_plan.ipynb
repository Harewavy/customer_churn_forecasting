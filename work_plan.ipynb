{
 "cells": [
  {
   "cell_type": "code",
   "execution_count": 1,
   "metadata": {},
   "outputs": [],
   "source": [
    "import pandas as pd"
   ]
  },
  {
   "cell_type": "code",
   "execution_count": 5,
   "metadata": {},
   "outputs": [
    {
     "name": "stdout",
     "output_type": "stream",
     "text": [
      "<class 'pandas.core.frame.DataFrame'>\n",
      "RangeIndex: 7043 entries, 0 to 7042\n",
      "Data columns (total 8 columns):\n",
      " #   Column            Non-Null Count  Dtype  \n",
      "---  ------            --------------  -----  \n",
      " 0   customerID        7043 non-null   object \n",
      " 1   BeginDate         7043 non-null   object \n",
      " 2   EndDate           7043 non-null   object \n",
      " 3   Type              7043 non-null   object \n",
      " 4   PaperlessBilling  7043 non-null   object \n",
      " 5   PaymentMethod     7043 non-null   object \n",
      " 6   MonthlyCharges    7043 non-null   float64\n",
      " 7   TotalCharges      7043 non-null   object \n",
      "dtypes: float64(1), object(7)\n",
      "memory usage: 440.3+ KB\n",
      "<class 'pandas.core.frame.DataFrame'>\n",
      "RangeIndex: 7043 entries, 0 to 7042\n",
      "Data columns (total 5 columns):\n",
      " #   Column         Non-Null Count  Dtype \n",
      "---  ------         --------------  ----- \n",
      " 0   customerID     7043 non-null   object\n",
      " 1   gender         7043 non-null   object\n",
      " 2   SeniorCitizen  7043 non-null   int64 \n",
      " 3   Partner        7043 non-null   object\n",
      " 4   Dependents     7043 non-null   object\n",
      "dtypes: int64(1), object(4)\n",
      "memory usage: 275.2+ KB\n",
      "<class 'pandas.core.frame.DataFrame'>\n",
      "RangeIndex: 5517 entries, 0 to 5516\n",
      "Data columns (total 8 columns):\n",
      " #   Column            Non-Null Count  Dtype \n",
      "---  ------            --------------  ----- \n",
      " 0   customerID        5517 non-null   object\n",
      " 1   InternetService   5517 non-null   object\n",
      " 2   OnlineSecurity    5517 non-null   object\n",
      " 3   OnlineBackup      5517 non-null   object\n",
      " 4   DeviceProtection  5517 non-null   object\n",
      " 5   TechSupport       5517 non-null   object\n",
      " 6   StreamingTV       5517 non-null   object\n",
      " 7   StreamingMovies   5517 non-null   object\n",
      "dtypes: object(8)\n",
      "memory usage: 344.9+ KB\n",
      "<class 'pandas.core.frame.DataFrame'>\n",
      "RangeIndex: 6361 entries, 0 to 6360\n",
      "Data columns (total 2 columns):\n",
      " #   Column         Non-Null Count  Dtype \n",
      "---  ------         --------------  ----- \n",
      " 0   customerID     6361 non-null   object\n",
      " 1   MultipleLines  6361 non-null   object\n",
      "dtypes: object(2)\n",
      "memory usage: 99.5+ KB\n"
     ]
    },
    {
     "data": {
      "text/plain": [
       "((7043, 8), (7043, 5), (5517, 8), (6361, 2))"
      ]
     },
     "execution_count": 5,
     "metadata": {},
     "output_type": "execute_result"
    }
   ],
   "source": [
    "inner_path = \"/datasets/final_provider/\"\n",
    "\n",
    "contract_df = pd.read_csv(f\"{inner_path}/contract.csv\")\n",
    "personal_df = pd.read_csv(f\"{inner_path}/personal.csv\")\n",
    "internet_df = pd.read_csv(f\"{inner_path}/internet.csv\")\n",
    "phone_df = pd.read_csv(f\"{inner_path}/phone.csv\")\n",
    "\n",
    "contract_info = contract_df.info()\n",
    "personal_info = personal_df.info()\n",
    "internet_info = internet_df.info()\n",
    "phone_info = phone_df.info()\n",
    "\n",
    "contract_head = contract_df.head()\n",
    "personal_head = personal_df.head()\n",
    "internet_head = internet_df.head()\n",
    "phone_head = phone_df.head()\n",
    "\n",
    "contract_df.shape, personal_df.shape, internet_df.shape, phone_df.shape"
   ]
  },
  {
   "cell_type": "markdown",
   "metadata": {},
   "source": [
    "### Dataset Notes\n",
    "\n",
    "- 4 datasets: `contract` (7043 rows), `personal` (7043), `internet` (5517), `phone` (6361)\n",
    "- Primary file: `contract.csv` — contains target column `EndDate`\n",
    "- Target: churn → `EndDate != 'No'` is churn (`1`), otherwise (`0`)\n",
    "- `TotalCharges` is object type — needs conversion to float\n",
    "- `BeginDate` and `EndDate` should be converted to datetime\n",
    "- Some customers don’t use internet or phone → will result in missing values after merge\n",
    "\n",
    "---\n",
    "\n",
    "### Feature Engineering Ideas\n",
    "\n",
    "- Create `churn` column from `EndDate`\n",
    "- Extract `contract_length` in months from `BeginDate` and `EndDate`\n",
    "- Extract `begin_month`, `begin_weekday` from `BeginDate`\n",
    "- One-hot encode: `PaymentMethod`, `InternetService`, `Contract`, etc.\n",
    "- Convert binary `Yes`/`No` columns to 1/0\n",
    "- Consider class imbalance methods (SMOTE, `class_weight`)\n",
    "\n",
    "---\n",
    "\n",
    "### Work Plan\n",
    "\n",
    "1. **Merge Data**  \n",
    "   Merge all datasets on `customerID` to build full customer profiles\n",
    "\n",
    "2. **Clean & Format**  \n",
    "   Fix column names, convert data types, handle missing values\n",
    "\n",
    "3. **EDA**  \n",
    "   Analyze churn distribution, missing patterns, and feature relationships\n",
    "\n",
    "4. **Feature Engineering**  \n",
    "   Create new features from dates and service types, encode categoricals\n",
    "\n",
    "5. **Modeling**  \n",
    "   Train and evaluate classifiers (Logistic Regression, RandomForest, CatBoost) using AUC-ROC as primary metric\n",
    "\n",
    "---\n",
    "\n",
    "### Clarifying Questions\n",
    "\n",
    "- Should “No internet/phone service” be treated as `\"No\"` or its own category?\n",
    "- Should very short-term clients be filtered or treated as churn?\n",
    "- Do we prioritize reducing false negatives (missing a churn) or false positives?\n",
    "- Are there any restrictions on which models or libraries we can use?\n"
   ]
  },
  {
   "cell_type": "markdown",
   "metadata": {},
   "source": [
    "<div class=\"alert alert-block alert-success\">\n",
    "<b>Reviewer's comment</b> Answers to Questions: <br>\n",
    "1. I would likely express it as its own category. <br>\n",
    "2. This is up to your discretion. <br>\n",
    "    3. This is also up to you, what way would you prefer that the model be incorrect?<br>\n",
    "    4. No, but we do encourage you to use the tools which were taught and practiced in the course!\n",
    "<a class=\"tocSkip\"></a>"
   ]
  },
  {
   "cell_type": "markdown",
   "metadata": {},
   "source": [
    "<div class=\"alert alert-block alert-success\">\n",
    "<b>Reviewer's comment</b> This looks like a good plan. Best of luck!\n",
    "<a class=\"tocSkip\"></a>"
   ]
  },
  {
   "cell_type": "code",
   "execution_count": null,
   "metadata": {},
   "outputs": [],
   "source": []
  }
 ],
 "metadata": {
  "kernelspec": {
   "display_name": "Python 3 (ipykernel)",
   "language": "python",
   "name": "python3"
  },
  "language_info": {
   "codemirror_mode": {
    "name": "ipython",
    "version": 3
   },
   "file_extension": ".py",
   "mimetype": "text/x-python",
   "name": "python",
   "nbconvert_exporter": "python",
   "pygments_lexer": "ipython3",
   "version": "3.9.23"
  }
 },
 "nbformat": 4,
 "nbformat_minor": 4
}
